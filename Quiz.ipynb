{
 "metadata": {
  "name": "Quiz"
 },
 "nbformat": 3,
 "nbformat_minor": 0,
 "worksheets": [
  {
   "cells": [
    {
     "cell_type": "heading",
     "level": 1,
     "metadata": {},
     "source": [
      "Riot Games data quiz"
     ]
    },
    {
     "cell_type": "raw",
     "metadata": {},
     "source": [
      "The challenge involves modeling number of offspring produced by a crab based on 11 physical characteristics of the crab.  Quick examination shows that the data is well formed, there are no missing values, and variables look roughtly normally distributed.  The response is a count of offspring, ranging from 3 to 9.  We could model the number of children as a Poisson process; however, since the count is never 0, it might be sufficient to treat response as a continuous Gaussian-distributed variable."
     ]
    },
    {
     "cell_type": "heading",
     "level": 1,
     "metadata": {},
     "source": [
      "Import data file"
     ]
    },
    {
     "cell_type": "code",
     "collapsed": false,
     "input": [
      "fname = 'StatQuizData.csv'"
     ],
     "language": "python",
     "metadata": {},
     "outputs": [],
     "prompt_number": 2
    },
    {
     "cell_type": "markdown",
     "metadata": {},
     "source": [
      "Find file dimensions"
     ]
    },
    {
     "cell_type": "code",
     "collapsed": false,
     "input": [
      "with open(fname) as f:\n",
      "    for nrows, row_string in enumerate(f):\n",
      "        if nrows == 0:\n",
      "            ncols = row_string.count(',') + 1\n",
      "        pass"
     ],
     "language": "python",
     "metadata": {},
     "outputs": [],
     "prompt_number": 4
    },
    {
     "cell_type": "code",
     "collapsed": false,
     "input": [
      "print nrows, ncols"
     ],
     "language": "python",
     "metadata": {},
     "outputs": [
      {
       "output_type": "stream",
       "stream": "stdout",
       "text": [
        " 4898 13\n"
       ]
      }
     ],
     "prompt_number": 6
    },
    {
     "cell_type": "markdown",
     "metadata": {},
     "source": [
      "Read csv data into a data matrix and a response vector"
     ]
    },
    {
     "cell_type": "code",
     "collapsed": false,
     "input": [
      "import numpy as np\n",
      "data = np.zeros((nrows, ncols))\n",
      "with open(fname) as f:\n",
      "    for nrows, row_string in enumerate(f):\n",
      "        if nrows == 0:\n",
      "            pass\n",
      "        else:\n",
      "            data[nrows-1, :] = np.array(row_string.rstrip().split(',')).astype('float')\n",
      "\n",
      "X = data[:, 1:-1]\n",
      "y = data[:, -1]"
     ],
     "language": "python",
     "metadata": {},
     "outputs": [],
     "prompt_number": 16
    },
    {
     "cell_type": "markdown",
     "metadata": {},
     "source": [
      "Or could just use pandas:"
     ]
    },
    {
     "cell_type": "code",
     "collapsed": false,
     "input": [
      "import pandas\n",
      "df = pandas.read_csv('StatQuizData.csv')\n",
      "print df"
     ],
     "language": "python",
     "metadata": {},
     "outputs": [
      {
       "output_type": "stream",
       "stream": "stdout",
       "text": [
        "<class 'pandas.core.frame.DataFrame'>\n",
        "Int64Index: 4898 entries, 0 to 4897\n",
        "Data columns:\n",
        "row number    4898  non-null values\n",
        "var1          4898  non-null values\n",
        "var2          4898  non-null values\n",
        "var3          4898  non-null values\n",
        "var4          4898  non-null values\n",
        "var5          4898  non-null values\n",
        "var6          4898  non-null values\n",
        "var7          4898  non-null values\n",
        "var8          4898  non-null values\n",
        "var9          4898  non-null values\n",
        "var10         4898  non-null values\n",
        "var11         4898  non-null values\n",
        "response      4898  non-null values\n",
        "dtypes: float64(11), int64(2)\n"
       ]
      }
     ],
     "prompt_number": 10
    },
    {
     "cell_type": "heading",
     "level": 1,
     "metadata": {},
     "source": [
      "Checking variable distributions"
     ]
    },
    {
     "cell_type": "markdown",
     "metadata": {},
     "source": [
      "It's important to look at the histogram of each variable to see if any preprocessing is needed.  In this case most of them are reasonably close to a normal distribution with some outliers, with a notable exception of valiable 4, which might require a log transformation.  We'll skip this step though for now and assume all variables are normally distributed.  The scale of distributions is however very different, so we'll need to normalize it before feeding to a classifier.  "
     ]
    },
    {
     "cell_type": "code",
     "collapsed": false,
     "input": [
      "%pylab inline\n",
      "for i in range(X.shape[1]):\n",
      "    a,b,c = hist(X[:,i],50)\n",
      "    show()"
     ],
     "language": "python",
     "metadata": {},
     "outputs": [
      {
       "output_type": "stream",
       "stream": "stdout",
       "text": [
        "\n",
        "Welcome to pylab, a matplotlib-based Python environment [backend: module://IPython.kernel.zmq.pylab.backend_inline].\n",
        "For more information, type 'help(pylab)'.\n"
       ]
      },
      {
       "output_type": "display_data",
       "png": "[encoded data removed]",
       "text": [
        "<matplotlib.figure.Figure at 0x1145df4d0>"
       ]
      },
      {
       "output_type": "display_data",
       "png": "[encoded data removed]",
       "text": [
        "<matplotlib.figure.Figure at 0x1146ac2d0>"
       ]
      },
      {
       "output_type": "display_data",
       "png": "[encoded data removed]",
       "text": [
        "<matplotlib.figure.Figure at 0x1143df590>"
       ]
      },
      {
       "output_type": "display_data",
       "png": "[encoded data removed]",
       "text": [
        "<matplotlib.figure.Figure at 0x1142e1690>"
       ]
      },
      {
       "output_type": "display_data",
       "png": "[encoded data removed]",
       "text": [
        "<matplotlib.figure.Figure at 0x1145f7b10>"
       ]
      },
      {
       "output_type": "display_data",
       "png": "[encoded data removed]",
       "text": [
        "<matplotlib.figure.Figure at 0x1145d0090>"
       ]
      },
      {
       "output_type": "display_data",
       "png": "[encoded data removed]",
       "text": [
        "<matplotlib.figure.Figure at 0x1143be750>"
       ]
      },
      {
       "output_type": "display_data",
       "png": "[encoded data removed]",
       "text": [
        "<matplotlib.figure.Figure at 0x114adfe50>"
       ]
      },
      {
       "output_type": "display_data",
       "png": "[encoded data removed]",
       "text": [
        "<matplotlib.figure.Figure at 0x1144a8d10>"
       ]
      },
      {
       "output_type": "display_data",
       "png": "[encoded data removed]",
       "text": [
        "<matplotlib.figure.Figure at 0x10bdc1210>"
       ]
      },
      {
       "output_type": "display_data",
       "png": "[encoded data removed]",
       "text": [
        "<matplotlib.figure.Figure at 0x1143be750>"
       ]
      }
     ],
     "prompt_number": 36
    },
    {
     "cell_type": "heading",
     "level": 1,
     "metadata": {},
     "source": [
      "Data normalization"
     ]
    },
    {
     "cell_type": "code",
     "collapsed": false,
     "input": [
      "def normalize(X):\n",
      "    '''\n",
      "    Preprocess data of vastly different dimensions.\n",
      "    Return X with columns of mean=0 and std=1.\n",
      "    '''\n",
      "\n",
      "    means = []\n",
      "    stds = []\n",
      " \n",
      "    X_norm = X\n",
      " \n",
      "    nc = X.shape[1]\n",
      "    for i in range(nc):\n",
      "        m = np.mean(X[:, i])\n",
      "        s = np.std(X[:, i])\n",
      "        means.append(m)\n",
      "        stds.append(s)\n",
      "        X_norm[:, i] = (X_norm[:, i] - m) / s\n",
      " \n",
      "    return X_norm, means, stds"
     ],
     "language": "python",
     "metadata": {},
     "outputs": [],
     "prompt_number": 13
    },
    {
     "cell_type": "code",
     "collapsed": false,
     "input": [
      "X_norm, means, stds = normalize(X)"
     ],
     "language": "python",
     "metadata": {},
     "outputs": [],
     "prompt_number": 14
    },
    {
     "cell_type": "heading",
     "level": 1,
     "metadata": {},
     "source": [
      "Split into train and test sets"
     ]
    },
    {
     "cell_type": "code",
     "collapsed": false,
     "input": [
      "X_train = X_norm[:4000, :]\n",
      "y_train = y[:4000]\n",
      "X_test = X_norm[4000:, :]\n",
      "y_test = y[4000:]"
     ],
     "language": "python",
     "metadata": {},
     "outputs": [],
     "prompt_number": 23
    },
    {
     "cell_type": "heading",
     "level": 1,
     "metadata": {},
     "source": [
      "Run multivariate lsq linear model"
     ]
    },
    {
     "cell_type": "code",
     "collapsed": false,
     "input": [
      "from sklearn import linear_model\n",
      "clf = linear_model.LinearRegression()\n",
      "clf.fit(X_train,y_train)\n",
      "print clf.intercept_\n",
      "print clf.coef_"
     ],
     "language": "python",
     "metadata": {},
     "outputs": [
      {
       "output_type": "stream",
       "stream": "stdout",
       "text": [
        "5.90548240015\n",
        "[ 0.03764027 -0.17593217 -0.00307087  0.39732241 -0.00174162  0.08480384\n",
        " -0.01153385 -0.43543131  0.11487916  0.08648008  0.27752766]\n"
       ]
      }
     ],
     "prompt_number": 40
    },
    {
     "cell_type": "markdown",
     "metadata": {},
     "source": [
      "Let's look at R^2 values"
     ]
    },
    {
     "cell_type": "code",
     "collapsed": false,
     "input": [
      "print clf.score(X_train, y_train)\n",
      "print clf.score(X_test, y_test)"
     ],
     "language": "python",
     "metadata": {},
     "outputs": [
      {
       "output_type": "stream",
       "stream": "stdout",
       "text": [
        "0.300681385152\n",
        "0.13187999473\n"
       ]
      }
     ],
     "prompt_number": 41
    },
    {
     "cell_type": "markdown",
     "metadata": {},
     "source": [
      "While some relationship between predicted and true values is found, it's not a large correlation, and generates poorly to the test dataset.  At this point prediction is a float, let's look at root mean square error when we round the prediction to an integer value."
     ]
    },
    {
     "cell_type": "code",
     "collapsed": false,
     "input": [
      "y_train_pred = np.around(clf.predict(X_train))\n",
      "y_test_pred = np.around(clf.predict(X_test))\n",
      "train_err = np.mean((y_train_pred-y_train)**2)\n",
      "test_err = np.mean((y_test_pred-y_test)**2)\n",
      "print train_err \n",
      "print test_err"
     ],
     "language": "python",
     "metadata": {},
     "outputs": [
      {
       "output_type": "stream",
       "stream": "stdout",
       "text": [
        "0.66425\n",
        "0.673719376392\n"
       ]
      }
     ],
     "prompt_number": 43
    },
    {
     "cell_type": "raw",
     "metadata": {},
     "source": [
      "How often does the prediction and true value match?"
     ]
    },
    {
     "cell_type": "code",
     "collapsed": false,
     "input": [
      "print np.sum(y_train_pred - y_train ==0)/float(len(y_train))\n",
      "print np.sum(y_test_pred - y_test ==0)/float(len(y_test))"
     ],
     "language": "python",
     "metadata": {},
     "outputs": [
      {
       "output_type": "stream",
       "stream": "stdout",
       "text": [
        "0.512\n",
        "0.523385300668\n"
       ]
      }
     ],
     "prompt_number": 46
    },
    {
     "cell_type": "markdown",
     "metadata": {},
     "source": [
      "Prediction matches the true value roughly half the time for both datasets"
     ]
    },
    {
     "cell_type": "markdown",
     "metadata": {},
     "source": [
      "The next step is to diagnose whether the model suffers more from high bias or high variance.  In this case lack of accuracy (high bias) is the main problem.  If the model showed signs of being overfit, I would introduce L2 Ridge regression, but I think I need to skip this step and try a different model."
     ]
    },
    {
     "cell_type": "heading",
     "level": 1,
     "metadata": {},
     "source": [
      "RidgeRegression SVR (Support Vector Regression)"
     ]
    },
    {
     "cell_type": "markdown",
     "metadata": {},
     "source": [
      "I would like to try a linear kernel first, but sklearn.smv seems to implement rbf kernel by default, and I don't see how to change that.  So let's use rbf kernel."
     ]
    },
    {
     "cell_type": "code",
     "collapsed": false,
     "input": [
      "from sklearn import svm\n",
      "SVR_model = svm.SVR()\n",
      "SVR_model.fit(X, y) "
     ],
     "language": "python",
     "metadata": {},
     "outputs": [
      {
       "output_type": "pyout",
       "prompt_number": 51,
       "text": [
        "SVR(C=1.0, cache_size=200, coef0=0.0, degree=3, epsilon=0.1, gamma=0.0,\n",
        "  kernel='rbf', max_iter=-1, probability=False, shrinking=True, tol=0.001,\n",
        "  verbose=False)"
       ]
      }
     ],
     "prompt_number": 51
    },
    {
     "cell_type": "code",
     "collapsed": false,
     "input": [
      "print SVR_model.score(X_train, y_train)\n",
      "print SVR_model.score(X_test, y_test)"
     ],
     "language": "python",
     "metadata": {},
     "outputs": [
      {
       "output_type": "stream",
       "stream": "stdout",
       "text": [
        "-0.00516254306232\n",
        "-0.00518992123254"
       ]
      },
      {
       "output_type": "stream",
       "stream": "stdout",
       "text": [
        "\n"
       ]
      }
     ],
     "prompt_number": 52
    },
    {
     "cell_type": "code",
     "collapsed": false,
     "input": [
      "y_train_pred = np.around(SVR_model.predict(X_train))\n",
      "y_test_pred = np.around(SVR_model.predict(X_test))\n",
      "train_err = np.mean((y_train_pred-y_train)**2)\n",
      "test_err = np.mean((y_test_pred-y_test)**2)\n",
      "print train_err \n",
      "print test_err"
     ],
     "language": "python",
     "metadata": {},
     "outputs": [
      {
       "output_type": "stream",
       "stream": "stdout",
       "text": [
        "0.84225\n",
        "0.606904231626\n"
       ]
      }
     ],
     "prompt_number": 53
    },
    {
     "cell_type": "code",
     "collapsed": false,
     "input": [
      "Interesting, SVR peforms worse than simple linear regression."
     ],
     "language": "python",
     "metadata": {},
     "outputs": []
    }
   ],
   "metadata": {}
  }
 ]
}